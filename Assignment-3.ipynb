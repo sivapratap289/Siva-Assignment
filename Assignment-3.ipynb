{
 "cells": [
  {
   "cell_type": "markdown",
   "metadata": {},
   "source": [
    "Task 1: \n",
    "1.Write a function to compute 5/0 and use try/except to catch the exceptions. "
   ]
  },
  {
   "cell_type": "code",
   "execution_count": 2,
   "metadata": {},
   "outputs": [],
   "source": [
    "def devision():\n",
    "    try: \n",
    "        x=int(input(\"enter the value x:\"))\n",
    "        y=int(input(\"enter the value y:\"))\n",
    "        print(x/y)\n",
    "              \n",
    "    except:\n",
    "        print(\"it's a devision error\")\n"
   ]
  },
  {
   "cell_type": "markdown",
   "metadata": {},
   "source": [
    "2.Implement a Python program to generate all sentences where subject is in [\"Americans\", \n",
    "\"Indians\"] and verb is in [\"Play\", \"watch\"] and the object is in [\"Baseball\",\"cricket\"]. "
   ]
  },
  {
   "cell_type": "code",
   "execution_count": 25,
   "metadata": {},
   "outputs": [
    {
     "name": "stdout",
     "output_type": "stream",
     "text": [
      "Americans  play Baseball\n",
      "Americans  play Cricket\n",
      "Americans  watch Baseball\n",
      "Americans  watch Cricket\n",
      "Indians play Baseball\n",
      "Indians play Cricket\n",
      "Indians watch Baseball\n",
      "Indians watch Cricket\n"
     ]
    }
   ],
   "source": [
    "subjects=[\"Americans \",\"Indians\"] \n",
    "verbs=[\"play\",\"watch\"] \n",
    "objects=[\"Baseball\",\"Cricket\"] \n",
    "for i in subjects:\n",
    "    for j in verbs:\n",
    "        for k in objects:\n",
    "            print(i,j,k)"
   ]
  },
  {
   "cell_type": "markdown",
   "metadata": {},
   "source": [
    "Task 2: \n",
    "1.Write a function so that the columns of the output matrix are powers of the input vector. \n",
    "The order of the powers is determined by the increasing boolean argument. Specifically, when increasing is False, the i-th output column is the input vector raised element-wise to the power of N - i - 1. "
   ]
  },
  {
   "cell_type": "code",
   "execution_count": 1,
   "metadata": {},
   "outputs": [
    {
     "name": "stdout",
     "output_type": "stream",
     "text": [
      "\n",
      "Alexandre- Theophile Vandermonde matrix:\n",
      "\n",
      "[[0, 0, 0, 0, 0, 1], [1, 1, 1, 1, 1, 1], [32, 16, 8, 4, 2, 1], [243, 81, 27, 9, 3, 1], [1024, 256, 64, 16, 4, 1], [3125, 625, 125, 25, 5, 1]]\n",
      "0\t0\t0\t0\t0\t1\n",
      "1\t1\t1\t1\t1\t1\n",
      "32\t16\t8\t4\t2\t1\n",
      "243\t81\t27\t9\t3\t1\n",
      "1024\t256\t64\t16\t4\t1\n",
      "3125\t625\t125\t25\t5\t1\n"
     ]
    }
   ],
   "source": [
    "def matrix_power(matrix,n):\n",
    "        return [[ele**i for i in range(n-1,-1,-1)] for ele in matrix]\n",
    "input =[0,1,2,3,4,5]\n",
    "matrix=[int(i) for i in input]\n",
    "n=6\n",
    "result=matrix_power(matrix,n)\n",
    "print(\"\\nAlexandre- Theophile Vandermonde matrix:\\n\")\n",
    "print(result)\n",
    "print(\"\\n\".join([\"\\t\".join([str(ele) for ele in matrix]) for matrix in result ]))"
   ]
  }
 ],
 "metadata": {
  "kernelspec": {
   "display_name": "Python 3",
   "language": "python",
   "name": "python3"
  },
  "language_info": {
   "codemirror_mode": {
    "name": "ipython",
    "version": 3
   },
   "file_extension": ".py",
   "mimetype": "text/x-python",
   "name": "python",
   "nbconvert_exporter": "python",
   "pygments_lexer": "ipython3",
   "version": "3.7.4"
  }
 },
 "nbformat": 4,
 "nbformat_minor": 2
}
